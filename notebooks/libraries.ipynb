{
 "cells": [
  {
   "cell_type": "code",
   "execution_count": 6,
   "id": "a867e999-7d3e-49c9-8763-eb30e79de588",
   "metadata": {},
   "outputs": [],
   "source": [
    "import pandas as pd\n",
    "import altair as alt"
   ]
  },
  {
   "cell_type": "code",
   "execution_count": 5,
   "id": "b4520ffc-c685-42f3-9ab7-d0294272d6ed",
   "metadata": {},
   "outputs": [],
   "source": [
    "#read in the raw data\n",
    "lib_df = pd.read_csv('./data/raw/2002-2020-bc-public-libraries-open-data-csv-v20.csv', usecols = ['Period','2 Short Name of Library System', '101 Library Symbol', '3 Type of Library System', '802 Facility Owner', '960 Total computers available for public use'])"
   ]
  },
  {
   "cell_type": "code",
   "execution_count": 15,
   "id": "9e2784de-6ca5-425f-8bc6-c19c8fac72b2",
   "metadata": {},
   "outputs": [],
   "source": [
    "#filter by library symbol for the Greater Victoria Public Library\n",
    "lib_gvpl = lib_df[(lib_df['101 Library Symbol'] == 'BVI')]  "
   ]
  },
  {
   "cell_type": "code",
   "execution_count": null,
   "id": "f0396af7-784d-4218-b636-defcbc69d980",
   "metadata": {},
   "outputs": [],
   "source": []
  }
 ],
 "metadata": {
  "kernelspec": {
   "display_name": "Python [conda env:final_env]",
   "language": "python",
   "name": "conda-env-final_env-py"
  },
  "language_info": {
   "codemirror_mode": {
    "name": "ipython",
    "version": 3
   },
   "file_extension": ".py",
   "mimetype": "text/x-python",
   "name": "python",
   "nbconvert_exporter": "python",
   "pygments_lexer": "ipython3",
   "version": "3.9.15"
  }
 },
 "nbformat": 4,
 "nbformat_minor": 5
}
