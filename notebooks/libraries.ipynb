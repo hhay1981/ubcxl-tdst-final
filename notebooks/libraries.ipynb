{
 "cells": [
  {
   "cell_type": "markdown",
   "id": "84597a91-6925-4703-bfc1-577b1c4187f6",
   "metadata": {},
   "source": [
    "# An Ode to Libraries "
   ]
  },
  {
   "cell_type": "markdown",
   "id": "becb44fa-750e-4ed7-a9e3-54ea0dc53486",
   "metadata": {},
   "source": [
    "<img src=\"https://2.bp.blogspot.com/-2s3zgBhRZ3Y/XIQBWYb14aI/AAAAAAAAH00/kBqlSexZx2M2CRltougzJ7j5F-dklLlvgCPcBGAYYCw/s1600/Quote-6.png\" width=\"500\" alt=\"Library Quote\" />"
   ]
  },
  {
   "cell_type": "markdown",
   "id": "cbb3aa4e-e046-4540-bd7c-31c14869a2b0",
   "metadata": {},
   "source": [
    "### Librarians are smart.<br>\n",
    "Maybe they can't tell you what **this** means: <br>\n",
    "$$ \\overline{x} = \\frac{x_1 + x_2 + \\cdots + x_n}{n} = \\frac{1}{n}\\left(\\sum_{i=1}^{n} x_{i} \\right)$$\n",
    "<br>\n",
    "**but** they most certainly can tell you where to find books in *any* library that will teach you more about mathmatics!"
   ]
  },
  {
   "cell_type": "markdown",
   "id": "15caa734-411a-47e4-91f9-39a5ce55a0a6",
   "metadata": {},
   "source": [
    "Let's say, like me, you have a middle-schooler at home. Perhaps they've been tasked to find out more about the *Pythagorean Theorum*, which expresses itself as: <br><br>\n",
    "$$ x^2 + y^2 = z^2 $$ <br>\n",
    "A librarian might direct them to [this book](https://gvpl.ent.sirsidynix.net/client/en_US/default/search/detailnonmodal/ent:$002f$002fSD_ILS$002f0$002fSD_ILS:254024/ada?qu=pythagorean+theorum&d=ent%3A%2F%2FSD_ILS%2F0%2FSD_ILS%3A254024%7EILS%7E2&h=8) for more information"
   ]
  },
  {
   "cell_type": "code",
   "execution_count": 1,
   "id": "a867e999-7d3e-49c9-8763-eb30e79de588",
   "metadata": {},
   "outputs": [],
   "source": [
    "import pandas as pd\n",
    "import altair as alt\n",
    "import warnings\n",
    "warnings.filterwarnings('ignore')"
   ]
  },
  {
   "cell_type": "code",
   "execution_count": 2,
   "id": "b4520ffc-c685-42f3-9ab7-d0294272d6ed",
   "metadata": {},
   "outputs": [],
   "source": [
    "# read in the raw data\n",
    "lib_df = pd.read_csv('./data/raw/2002-2020-bc-public-libraries-open-data-csv-v20.csv', usecols = ['Period','2 Short Name of Library System', '101 Library Symbol', '3 Type of Library System', '802 Facility Owner', '960 Total computers available for public use'])\n",
    "\n",
    "# rename columns\n",
    "lib_df.columns = ['Year', 'Library System Name', 'Library Symbol', 'Library System Type', 'Facility Owner', 'Computers Available']"
   ]
  },
  {
   "cell_type": "code",
   "execution_count": 3,
   "id": "d4ae6ca8-0a93-4c6d-9050-8ca06f391179",
   "metadata": {},
   "outputs": [],
   "source": [
    "# find the number of computers available at each library by their library symbol\n",
    "lib_sym_comp = lib_df.groupby(['Library Symbol', 'Computers Available']).Year.min().reset_index()"
   ]
  },
  {
   "cell_type": "markdown",
   "id": "005fa24a-744f-4bfc-9d50-cfc6d70b2556",
   "metadata": {},
   "source": [
    "If we wanted to answer the question \"What libraries were owned by the Regional District in 2020?\", we could write code like this:<br>\n",
    "```python\n",
    "lib_sys_owner = lib_df.groupby(['Library System Name', 'Facility Owner']).Year.min().reset_index()\n",
    "lib_sys_owner = lib_sys_owner.loc[(lib_sys_owner['Year'] == 2020) & (lib_sys_owner['Facility Owner'] == 'Regional District')]\n",
    "lib_sys_owner\n",
    "```"
   ]
  },
  {
   "cell_type": "markdown",
   "id": "9fd66306-6e64-4125-b5e1-8947a309095e",
   "metadata": {},
   "source": [
    "Furthermore, if we wanted to state how *many* libraries were owned by the Regional District in 2020, we could write code like this:\n",
    "```python\n",
    "rd_2020_count = len(lib_sys_owner)\n",
    "print(\"There were \" + str(rd_2020_count) + \" libraries owned by the Regional District in 2020\")\n",
    "```"
   ]
  },
  {
   "cell_type": "code",
   "execution_count": 4,
   "id": "9e2784de-6ca5-425f-8bc6-c19c8fac72b2",
   "metadata": {},
   "outputs": [],
   "source": [
    "# filter the number of computers available by library symbol for the Greater Victoria Public Library\n",
    "lib_gvpl = lib_sym_comp.loc[lib_sym_comp['Library Symbol'] == 'BVI'].sort_values('Year')\n",
    "lib_gvpl = lib_gvpl.astype({'Computers Available':'int'})"
   ]
  },
  {
   "cell_type": "code",
   "execution_count": 5,
   "id": "40652801-9ff0-4f6b-865f-30c3973058b1",
   "metadata": {},
   "outputs": [],
   "source": [
    "# rename cell values for library system types for consistency\n",
    "lib_df['Library System Type'] = lib_df['Library System Type'].replace({'A': 'Public Library Association', 'I': 'Integrated Library System', 'M': 'Municipal Library', 'R': 'Regional Library System'})\n",
    "lib_df['Library System Type'].fillna('Not Listed',inplace=True)"
   ]
  },
  {
   "cell_type": "code",
   "execution_count": 9,
   "id": "e6771a2b-3487-46ec-af8f-fb3ce1226cfc",
   "metadata": {},
   "outputs": [],
   "source": [
    "# group library data by year and system type\n",
    "lib_sys_yr = lib_df.groupby(['Year', 'Library System Type']).size().reset_index(name='count').sort_values('Year')\n",
    "lib_sys_yr = lib_sys_yr.loc[lib_sys_yr['Year'] == 2020].sort_values('Library System Type')\n",
    "lib_sys_yr = lib_sys_yr.loc[lib_sys_yr['Year'] == 2020].sort_values('Library System Type')"
   ]
  },
  {
   "cell_type": "code",
   "execution_count": 10,
   "id": "2ec52994-2d1b-4bd8-96c5-31b4f3ac9df1",
   "metadata": {
    "tags": [
     "hide_code"
    ]
   },
   "outputs": [
    {
     "data": {
      "text/html": [
       "\n",
       "<div id=\"altair-viz-6f8e11db2faf4bde8819538b881c876f\"></div>\n",
       "<script type=\"text/javascript\">\n",
       "  var VEGA_DEBUG = (typeof VEGA_DEBUG == \"undefined\") ? {} : VEGA_DEBUG;\n",
       "  (function(spec, embedOpt){\n",
       "    let outputDiv = document.currentScript.previousElementSibling;\n",
       "    if (outputDiv.id !== \"altair-viz-6f8e11db2faf4bde8819538b881c876f\") {\n",
       "      outputDiv = document.getElementById(\"altair-viz-6f8e11db2faf4bde8819538b881c876f\");\n",
       "    }\n",
       "    const paths = {\n",
       "      \"vega\": \"https://cdn.jsdelivr.net/npm//vega@5?noext\",\n",
       "      \"vega-lib\": \"https://cdn.jsdelivr.net/npm//vega-lib?noext\",\n",
       "      \"vega-lite\": \"https://cdn.jsdelivr.net/npm//vega-lite@4.17.0?noext\",\n",
       "      \"vega-embed\": \"https://cdn.jsdelivr.net/npm//vega-embed@6?noext\",\n",
       "    };\n",
       "\n",
       "    function maybeLoadScript(lib, version) {\n",
       "      var key = `${lib.replace(\"-\", \"\")}_version`;\n",
       "      return (VEGA_DEBUG[key] == version) ?\n",
       "        Promise.resolve(paths[lib]) :\n",
       "        new Promise(function(resolve, reject) {\n",
       "          var s = document.createElement('script');\n",
       "          document.getElementsByTagName(\"head\")[0].appendChild(s);\n",
       "          s.async = true;\n",
       "          s.onload = () => {\n",
       "            VEGA_DEBUG[key] = version;\n",
       "            return resolve(paths[lib]);\n",
       "          };\n",
       "          s.onerror = () => reject(`Error loading script: ${paths[lib]}`);\n",
       "          s.src = paths[lib];\n",
       "        });\n",
       "    }\n",
       "\n",
       "    function showError(err) {\n",
       "      outputDiv.innerHTML = `<div class=\"error\" style=\"color:red;\">${err}</div>`;\n",
       "      throw err;\n",
       "    }\n",
       "\n",
       "    function displayChart(vegaEmbed) {\n",
       "      vegaEmbed(outputDiv, spec, embedOpt)\n",
       "        .catch(err => showError(`Javascript Error: ${err.message}<br>This usually means there's a typo in your chart specification. See the javascript console for the full traceback.`));\n",
       "    }\n",
       "\n",
       "    if(typeof define === \"function\" && define.amd) {\n",
       "      requirejs.config({paths});\n",
       "      require([\"vega-embed\"], displayChart, err => showError(`Error loading script: ${err.message}`));\n",
       "    } else {\n",
       "      maybeLoadScript(\"vega\", \"5\")\n",
       "        .then(() => maybeLoadScript(\"vega-lite\", \"4.17.0\"))\n",
       "        .then(() => maybeLoadScript(\"vega-embed\", \"6\"))\n",
       "        .catch(showError)\n",
       "        .then(() => displayChart(vegaEmbed));\n",
       "    }\n",
       "  })({\"config\": {\"view\": {\"continuousWidth\": 400, \"continuousHeight\": 300}, \"scale\": {\"bandPaddingInner\": 0.25}}, \"data\": {\"name\": \"data-af60d5cb30e54790bf733872f5aa5b2a\"}, \"mark\": \"bar\", \"encoding\": {\"x\": {\"axis\": {\"labelAngle\": -45}, \"field\": \"Year\", \"type\": \"ordinal\"}, \"y\": {\"field\": \"Computers Available\", \"type\": \"quantitative\"}}, \"height\": 300, \"title\": \"Public Computers Available at GVPL\", \"width\": 500, \"$schema\": \"https://vega.github.io/schema/vega-lite/v4.17.0.json\", \"datasets\": {\"data-af60d5cb30e54790bf733872f5aa5b2a\": [{\"Library Symbol\": \"BVI\", \"Computers Available\": 181, \"Year\": 2002}, {\"Library Symbol\": \"BVI\", \"Computers Available\": 206, \"Year\": 2003}, {\"Library Symbol\": \"BVI\", \"Computers Available\": 240, \"Year\": 2004}, {\"Library Symbol\": \"BVI\", \"Computers Available\": 250, \"Year\": 2005}, {\"Library Symbol\": \"BVI\", \"Computers Available\": 247, \"Year\": 2007}, {\"Library Symbol\": \"BVI\", \"Computers Available\": 277, \"Year\": 2008}, {\"Library Symbol\": \"BVI\", \"Computers Available\": 275, \"Year\": 2009}, {\"Library Symbol\": \"BVI\", \"Computers Available\": 290, \"Year\": 2010}, {\"Library Symbol\": \"BVI\", \"Computers Available\": 299, \"Year\": 2011}, {\"Library Symbol\": \"BVI\", \"Computers Available\": 280, \"Year\": 2012}, {\"Library Symbol\": \"BVI\", \"Computers Available\": 288, \"Year\": 2014}, {\"Library Symbol\": \"BVI\", \"Computers Available\": 292, \"Year\": 2015}, {\"Library Symbol\": \"BVI\", \"Computers Available\": 302, \"Year\": 2016}, {\"Library Symbol\": \"BVI\", \"Computers Available\": 286, \"Year\": 2017}, {\"Library Symbol\": \"BVI\", \"Computers Available\": 304, \"Year\": 2018}, {\"Library Symbol\": \"BVI\", \"Computers Available\": 0, \"Year\": 2020}]}}, {\"mode\": \"vega-lite\"});\n",
       "</script>"
      ],
      "text/plain": [
       "alt.Chart(...)"
      ]
     },
     "execution_count": 10,
     "metadata": {},
     "output_type": "execute_result"
    }
   ],
   "source": [
    "lib_gvpl_chart = alt.Chart(lib_gvpl).mark_bar().encode(\n",
    "    x=alt.X('Year:O', axis=alt.Axis(labelAngle=-45)),\n",
    "    y='Computers Available:Q'\n",
    ").properties(title='Public Computers Available at GVPL', width=500, height=300\n",
    "            ).configure_scale(bandPaddingInner=0.25)\n",
    "\n",
    "lib_gvpl_chart"
   ]
  },
  {
   "cell_type": "code",
   "execution_count": 8,
   "id": "112596cc-ee8e-4b1a-954c-f23ca46be729",
   "metadata": {
    "tags": [
     "hide_code"
    ]
   },
   "outputs": [
    {
     "data": {
      "text/html": [
       "\n",
       "<div id=\"altair-viz-45267555a13e4d3b8f9bd3d0126a8c39\"></div>\n",
       "<script type=\"text/javascript\">\n",
       "  var VEGA_DEBUG = (typeof VEGA_DEBUG == \"undefined\") ? {} : VEGA_DEBUG;\n",
       "  (function(spec, embedOpt){\n",
       "    let outputDiv = document.currentScript.previousElementSibling;\n",
       "    if (outputDiv.id !== \"altair-viz-45267555a13e4d3b8f9bd3d0126a8c39\") {\n",
       "      outputDiv = document.getElementById(\"altair-viz-45267555a13e4d3b8f9bd3d0126a8c39\");\n",
       "    }\n",
       "    const paths = {\n",
       "      \"vega\": \"https://cdn.jsdelivr.net/npm//vega@5?noext\",\n",
       "      \"vega-lib\": \"https://cdn.jsdelivr.net/npm//vega-lib?noext\",\n",
       "      \"vega-lite\": \"https://cdn.jsdelivr.net/npm//vega-lite@4.17.0?noext\",\n",
       "      \"vega-embed\": \"https://cdn.jsdelivr.net/npm//vega-embed@6?noext\",\n",
       "    };\n",
       "\n",
       "    function maybeLoadScript(lib, version) {\n",
       "      var key = `${lib.replace(\"-\", \"\")}_version`;\n",
       "      return (VEGA_DEBUG[key] == version) ?\n",
       "        Promise.resolve(paths[lib]) :\n",
       "        new Promise(function(resolve, reject) {\n",
       "          var s = document.createElement('script');\n",
       "          document.getElementsByTagName(\"head\")[0].appendChild(s);\n",
       "          s.async = true;\n",
       "          s.onload = () => {\n",
       "            VEGA_DEBUG[key] = version;\n",
       "            return resolve(paths[lib]);\n",
       "          };\n",
       "          s.onerror = () => reject(`Error loading script: ${paths[lib]}`);\n",
       "          s.src = paths[lib];\n",
       "        });\n",
       "    }\n",
       "\n",
       "    function showError(err) {\n",
       "      outputDiv.innerHTML = `<div class=\"error\" style=\"color:red;\">${err}</div>`;\n",
       "      throw err;\n",
       "    }\n",
       "\n",
       "    function displayChart(vegaEmbed) {\n",
       "      vegaEmbed(outputDiv, spec, embedOpt)\n",
       "        .catch(err => showError(`Javascript Error: ${err.message}<br>This usually means there's a typo in your chart specification. See the javascript console for the full traceback.`));\n",
       "    }\n",
       "\n",
       "    if(typeof define === \"function\" && define.amd) {\n",
       "      requirejs.config({paths});\n",
       "      require([\"vega-embed\"], displayChart, err => showError(`Error loading script: ${err.message}`));\n",
       "    } else {\n",
       "      maybeLoadScript(\"vega\", \"5\")\n",
       "        .then(() => maybeLoadScript(\"vega-lite\", \"4.17.0\"))\n",
       "        .then(() => maybeLoadScript(\"vega-embed\", \"6\"))\n",
       "        .catch(showError)\n",
       "        .then(() => displayChart(vegaEmbed));\n",
       "    }\n",
       "  })({\"config\": {\"view\": {\"continuousWidth\": 400, \"continuousHeight\": 300}, \"scale\": {\"bandPaddingInner\": 0.25}}, \"data\": {\"name\": \"data-1d38b381bec91acbb5d209abe0535585\"}, \"mark\": \"bar\", \"encoding\": {\"color\": {\"field\": \"Library System Type\", \"type\": \"nominal\"}, \"x\": {\"axis\": {\"labels\": false}, \"field\": \"Library System Type\", \"type\": \"ordinal\"}, \"y\": {\"field\": \"count\", \"title\": \"Number of Systems\", \"type\": \"quantitative\"}}, \"height\": 300, \"title\": \"BC Library Systems in 2020\", \"width\": 500, \"$schema\": \"https://vega.github.io/schema/vega-lite/v4.17.0.json\", \"datasets\": {\"data-1d38b381bec91acbb5d209abe0535585\": [{\"Year\": 2002, \"Library System Type\": \"Not Listed\", \"count\": 71}, {\"Year\": 2003, \"Library System Type\": \"Not Listed\", \"count\": 71}, {\"Year\": 2004, \"Library System Type\": \"Not Listed\", \"count\": 71}, {\"Year\": 2005, \"Library System Type\": \"Not Listed\", \"count\": 71}, {\"Year\": 2006, \"Library System Type\": \"Not Listed\", \"count\": 71}, {\"Year\": 2007, \"Library System Type\": \"Integrated Library System\", \"count\": 2}, {\"Year\": 2007, \"Library System Type\": \"Municipal Library\", \"count\": 29}, {\"Year\": 2007, \"Library System Type\": \"Public Library Association\", \"count\": 37}, {\"Year\": 2007, \"Library System Type\": \"Regional Library System\", \"count\": 3}, {\"Year\": 2008, \"Library System Type\": \"Integrated Library System\", \"count\": 2}, {\"Year\": 2008, \"Library System Type\": \"Municipal Library\", \"count\": 29}, {\"Year\": 2008, \"Library System Type\": \"Public Library Association\", \"count\": 37}, {\"Year\": 2008, \"Library System Type\": \"Regional Library System\", \"count\": 3}, {\"Year\": 2009, \"Library System Type\": \"Regional Library System\", \"count\": 3}, {\"Year\": 2009, \"Library System Type\": \"Public Library Association\", \"count\": 37}, {\"Year\": 2009, \"Library System Type\": \"Integrated Library System\", \"count\": 2}, {\"Year\": 2009, \"Library System Type\": \"Municipal Library\", \"count\": 29}, {\"Year\": 2010, \"Library System Type\": \"Integrated Library System\", \"count\": 2}, {\"Year\": 2010, \"Library System Type\": \"Municipal Library\", \"count\": 29}, {\"Year\": 2010, \"Library System Type\": \"Public Library Association\", \"count\": 37}, {\"Year\": 2010, \"Library System Type\": \"Regional Library System\", \"count\": 3}, {\"Year\": 2011, \"Library System Type\": \"Integrated Library System\", \"count\": 2}, {\"Year\": 2011, \"Library System Type\": \"Municipal Library\", \"count\": 29}, {\"Year\": 2011, \"Library System Type\": \"Public Library Association\", \"count\": 37}, {\"Year\": 2011, \"Library System Type\": \"Regional Library System\", \"count\": 3}, {\"Year\": 2012, \"Library System Type\": \"Integrated Library System\", \"count\": 2}, {\"Year\": 2012, \"Library System Type\": \"Municipal Library\", \"count\": 30}, {\"Year\": 2012, \"Library System Type\": \"Public Library Association\", \"count\": 36}, {\"Year\": 2012, \"Library System Type\": \"Regional Library System\", \"count\": 3}, {\"Year\": 2013, \"Library System Type\": \"Regional Library System\", \"count\": 3}, {\"Year\": 2013, \"Library System Type\": \"Public Library Association\", \"count\": 36}, {\"Year\": 2013, \"Library System Type\": \"Municipal Library\", \"count\": 30}, {\"Year\": 2013, \"Library System Type\": \"Integrated Library System\", \"count\": 2}, {\"Year\": 2014, \"Library System Type\": \"Integrated Library System\", \"count\": 2}, {\"Year\": 2014, \"Library System Type\": \"Municipal Library\", \"count\": 30}, {\"Year\": 2014, \"Library System Type\": \"Public Library Association\", \"count\": 36}, {\"Year\": 2014, \"Library System Type\": \"Regional Library System\", \"count\": 3}, {\"Year\": 2015, \"Library System Type\": \"Integrated Library System\", \"count\": 2}, {\"Year\": 2015, \"Library System Type\": \"Municipal Library\", \"count\": 30}, {\"Year\": 2015, \"Library System Type\": \"Public Library Association\", \"count\": 36}, {\"Year\": 2015, \"Library System Type\": \"Regional Library System\", \"count\": 3}, {\"Year\": 2016, \"Library System Type\": \"Integrated Library System\", \"count\": 2}, {\"Year\": 2016, \"Library System Type\": \"Municipal Library\", \"count\": 30}, {\"Year\": 2016, \"Library System Type\": \"Public Library Association\", \"count\": 36}, {\"Year\": 2016, \"Library System Type\": \"Regional Library System\", \"count\": 3}, {\"Year\": 2017, \"Library System Type\": \"Regional Library System\", \"count\": 3}, {\"Year\": 2017, \"Library System Type\": \"Public Library Association\", \"count\": 36}, {\"Year\": 2017, \"Library System Type\": \"Municipal Library\", \"count\": 30}, {\"Year\": 2017, \"Library System Type\": \"Integrated Library System\", \"count\": 2}, {\"Year\": 2018, \"Library System Type\": \"Integrated Library System\", \"count\": 2}, {\"Year\": 2018, \"Library System Type\": \"Municipal Library\", \"count\": 30}, {\"Year\": 2018, \"Library System Type\": \"Public Library Association\", \"count\": 36}, {\"Year\": 2018, \"Library System Type\": \"Regional Library System\", \"count\": 3}, {\"Year\": 2019, \"Library System Type\": \"Integrated Library System\", \"count\": 2}, {\"Year\": 2019, \"Library System Type\": \"Municipal Library\", \"count\": 30}, {\"Year\": 2019, \"Library System Type\": \"Public Library Association\", \"count\": 36}, {\"Year\": 2019, \"Library System Type\": \"Regional Library System\", \"count\": 3}, {\"Year\": 2020, \"Library System Type\": \"Integrated Library System\", \"count\": 2}, {\"Year\": 2020, \"Library System Type\": \"Municipal Library\", \"count\": 30}, {\"Year\": 2020, \"Library System Type\": \"Public Library Association\", \"count\": 36}, {\"Year\": 2020, \"Library System Type\": \"Regional Library System\", \"count\": 3}]}}, {\"mode\": \"vega-lite\"});\n",
       "</script>"
      ],
      "text/plain": [
       "alt.Chart(...)"
      ]
     },
     "execution_count": 8,
     "metadata": {},
     "output_type": "execute_result"
    }
   ],
   "source": [
    "lib_sys_yr_chart = alt.Chart(lib_sys_yr).mark_bar().encode(\n",
    "    x=alt.X('Library System Type:O', axis=alt.Axis(labels=False)),\n",
    "    y=alt.Y('count:Q', title='Number of Systems'),\n",
    "    color='Library System Type'\n",
    ").properties(title='BC Library Systems in 2020', width=500, height=300\n",
    "            ).configure_scale(bandPaddingInner=0.25)\n",
    "\n",
    "lib_sys_yr_chart"
   ]
  },
  {
   "cell_type": "markdown",
   "id": "3b704a39-f06c-4d8c-9896-908deec3caa6",
   "metadata": {},
   "source": [
    "<img src=\"https://i1.wp.com/deasillustration.com/blog/wp-content/uploads/2011/02/GVPL_Octopus.jpg?w=435\" width=\"500\" alt=\"New GVPL Library Card Design\" />"
   ]
  }
 ],
 "metadata": {
  "kernelspec": {
   "display_name": "Python [conda env:final_env]",
   "language": "python",
   "name": "conda-env-final_env-py"
  },
  "language_info": {
   "codemirror_mode": {
    "name": "ipython",
    "version": 3
   },
   "file_extension": ".py",
   "mimetype": "text/x-python",
   "name": "python",
   "nbconvert_exporter": "python",
   "pygments_lexer": "ipython3",
   "version": "3.9.15"
  }
 },
 "nbformat": 4,
 "nbformat_minor": 5
}
